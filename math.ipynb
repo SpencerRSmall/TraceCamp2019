{
 "cells": [
  {
   "cell_type": "code",
   "execution_count": 5,
   "metadata": {},
   "outputs": [
    {
     "name": "stdout",
     "output_type": "stream",
     "text": [
      "[1, 2, 3, 4, 5, 6, 7, 8, 9, 10]\n",
      "[3, 4, 5, 6, 7, 8, 9, 10, 11, 12]\n",
      "[1, 2, 3, 4, 5, 6, 7, 8, 9, 10]\n",
      "[1, 8, 27, 64, 125, 216, 343, 512, 729, 1000]\n",
      "[6, 9, 12]\n"
     ]
    }
   ],
   "source": [
    "list = [1, 2, 3, 4, 5, 6, 7, 8, 9, 10]    #initial list\n",
    "print (list)\n",
    "\n",
    "listPlusTwo = [2 + x for x in list]        #list + 2\n",
    "print (listPlusTwo)\n",
    "\n",
    "x = [i+1 for i in range(10)]              #list comprehensive\n",
    "print (x)\n",
    "\n",
    "listCubed = [(i+1)**3 for i in range(10)]  #list cubed\n",
    "print (listCubed)\n",
    "\n",
    "threesMultiple = [i + 3 for i in list if i % 3 == 0]\n",
    "print (threesMultiple)\n"
   ]
  },
  {
   "cell_type": "code",
   "execution_count": null,
   "metadata": {},
   "outputs": [],
   "source": []
  }
 ],
 "metadata": {
  "kernelspec": {
   "display_name": "Python 3",
   "language": "python",
   "name": "python3"
  },
  "language_info": {
   "codemirror_mode": {
    "name": "ipython",
    "version": 3
   },
   "file_extension": ".py",
   "mimetype": "text/x-python",
   "name": "python",
   "nbconvert_exporter": "python",
   "pygments_lexer": "ipython3",
   "version": "3.6.8"
  }
 },
 "nbformat": 4,
 "nbformat_minor": 2
}
